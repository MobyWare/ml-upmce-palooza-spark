{
 "cells": [
  {
   "cell_type": "code",
   "execution_count": null,
   "metadata": {
    "collapsed": true
   },
   "outputs": [],
   "source": [
    "sc._conf.getAll()"
   ]
  },
  {
   "cell_type": "code",
   "execution_count": 3,
   "metadata": {
    "collapsed": false
   },
   "outputs": [
    {
     "data": {
      "text/plain": [
       "[u'\"VisitID\",\"Hospital\",\"Dept_Code\",\"PaymentType\",\"Age\",\"Race\",\"Gender\",\"FC\",\"ArriveDate\",\"DischargeDate\",\"LOS\",\"DXCODE\",\"Description\",\"DispenseID\",\"DOC\"']"
      ]
     },
     "execution_count": 3,
     "metadata": {},
     "output_type": "execute_result"
    }
   ],
   "source": [
    "#250 Mb\n",
    "bigFilePath = 'file:///C:/Users/dickm/Documents/Projects/ML/Source/UPMC/Pharmacy/Collab/Contiguous with mapped NDC.txt'\n",
    "\n",
    "#49 Mb\n",
    "mediumFilePath = 'file:///C:/Users/dickm/Documents/Projects/ML/Source/UPMC/Pharmacy/Collab/Contiguous Drugs - Generic Names - 24c_20000q.csv'\n",
    "\n",
    "#63 Kb\n",
    "smallFilePath = 'file:///C:/Users/dickm/Documents/Projects/ML/Source/UPMC/Pharmacy/Collab/UPMC Pharmacy Data_contiguous.ipynb'\n",
    "\n",
    "medFilePath = 'file:///C:/Users/dickm/Documents/Projects/ML/Source/UPMC/Pharmacy/visit_1mb_sparktest.csv'\n",
    "\n",
    "smallFile = 'file:///C:/Users/dickm/Documents/Projects/ML/Source/UPMC/Pharmacy/visit_less_1mb_sparktest.csv'\n",
    "\n",
    "tinyFile = 'file:///C:/Users/dickm/Documents/Projects/ML/Source/UPMC/Pharmacy/visit_500kb_sparktest.csv'\n",
    "\n",
    "sc.textFile(tinyFile).take(1)"
   ]
  }
 ],
 "metadata": {
  "kernelspec": {
   "display_name": "Python 2",
   "language": "python",
   "name": "python2"
  },
  "language_info": {
   "codemirror_mode": {
    "name": "ipython",
    "version": 2
   },
   "file_extension": ".py",
   "mimetype": "text/x-python",
   "name": "python",
   "nbconvert_exporter": "python",
   "pygments_lexer": "ipython2",
   "version": "2.7.11"
  }
 },
 "nbformat": 4,
 "nbformat_minor": 0
}
