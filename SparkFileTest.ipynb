{
 "cells": [
  {
   "cell_type": "markdown",
   "metadata": {},
   "source": [
    "# Loading files on Windows\n",
    "### Issue is recorded on Spark Jira\n",
    "\n",
    "The solution is [here](https://issues.apache.org/jira/browse/SPARK-12261). I just need to increase the minimum partitiion to about 100 partitions per Mb of the file."
   ]
  },
  {
   "cell_type": "code",
   "execution_count": 1,
   "metadata": {
    "collapsed": false
   },
   "outputs": [
    {
     "data": {
      "text/plain": [
       "[u'\"VisitID\",\"Hospital\",\"Dept_Code\",\"PaymentType\",\"Age\",\"Race\",\"Gender\",\"FC\",\"ArriveDate\",\"DischargeDate\",\"LOS\",\"DXCODE\",\"Description\",\"DispenseID\",\"DOC\"']"
      ]
     },
     "execution_count": 1,
     "metadata": {},
     "output_type": "execute_result"
    }
   ],
   "source": [
    "# 577 Kb\n",
    "thresholdFile = 'file:///C:/Users/dickm/Documents/Projects/ML/Source/UPMC/Pharmacy/visit_500kb_sparktest.csv'\n",
    "\n",
    "#477 Kb\n",
    "underFile = 'file:///C:/Users/dickm/Documents/Projects/ML/Source/UPMC/Pharmacy/visit_less_500kb_sparktest.csv'\n",
    "\n",
    "#1.2 Mb\n",
    "bigFile = 'file:///C:/Users/dickm/Documents/Projects/ML/Source/UPMC/Pharmacy/visit_1mb_sparktest.csv'\n",
    "\n",
    "# actual 32 Mb\n",
    "trainFile = 'file:///C:/Users/dickm/Documents/Projects/ML/Source/UPMC/Pharmacy/visit_train_panda.csv'\n",
    "\n",
    "sc.textFile(trainFile, 1000).take(1)"
   ]
  }
 ],
 "metadata": {
  "kernelspec": {
   "display_name": "Python 2",
   "language": "python",
   "name": "python2"
  },
  "language_info": {
   "codemirror_mode": {
    "name": "ipython",
    "version": 2
   },
   "file_extension": ".py",
   "mimetype": "text/x-python",
   "name": "python",
   "nbconvert_exporter": "python",
   "pygments_lexer": "ipython2",
   "version": "2.7.11"
  }
 },
 "nbformat": 4,
 "nbformat_minor": 0
}
