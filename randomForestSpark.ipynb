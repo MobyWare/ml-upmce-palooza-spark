{
 "cells": [
  {
   "cell_type": "markdown",
   "metadata": {},
   "source": [
    "# Forest of Doom\n",
    "### By Ryan Dickson\n",
    "### Edited by Mohinder Dick\n",
    "> References go here for presentation version. "
   ]
  },
  {
   "cell_type": "code",
   "execution_count": null,
   "metadata": {
    "collapsed": true
   },
   "outputs": [],
   "source": [
    "from pyspark.sql.functions import *\n",
    "from dateutil.parser import parse\n",
    "from pyspark.ml import Pipeline\n",
    "from pyspark.ml.regression import RandomForestRegressor\n",
    "from pyspark.ml.feature import StringIndexer, HashingTF, VectorAssembler, IDF\n",
    "from pyspark.ml.evaluation import RegressionEvaluator\n",
    "from pyspark.ml.tuning import CrossValidator"
   ]
  },
  {
   "cell_type": "markdown",
   "metadata": {},
   "source": [
    "## Verify Spark\n",
    "\n",
    "This launches the notebook and provides the spark context in the variable *sc*. You can use the context to preview the configuration."
   ]
  },
  {
   "cell_type": "code",
   "execution_count": null,
   "metadata": {
    "collapsed": false
   },
   "outputs": [],
   "source": [
    "print sc._conf.getAll()\n",
    "test = sc.parallelize(range(1000))\n",
    "print '\\nsum of 1 to 1000: ', test.reduce(lambda a, b: a+b )"
   ]
  },
  {
   "cell_type": "markdown",
   "metadata": {},
   "source": [
    "## Get the training data"
   ]
  },
  {
   "cell_type": "code",
   "execution_count": null,
   "metadata": {
    "collapsed": false
   },
   "outputs": [],
   "source": [
    "if sc._conf.get('spark.master') == 'yarn-client' or sc._conf.get('spark.master') == 'yarn-cluster':\n",
    "    urn = 'hdfs://sparkdl04:8020/palooza/data/visit_train_panda.csv'\n",
    "else:\n",
    "    urn = 'file:///C:/Users/dickm/Documents/Projects/ML/Source/UPMC/Pharmacy/visit_train_panda.csv'\n",
    "\n",
    "chargesRDD = sc.textFile(urn)\n",
    "\n",
    "#Get a new RDD with map function and lambda keyword. Remove header row.\n",
    "header = chargesRDD.take(1)[0]\n",
    "chargesRDD = chargesRDD.filter(lambda line: line!=header)\n",
    "chargesRDDSplit = chargesRDD.map(lambda line: line.replace('\"', '').split(','))\n",
    "chargesRDDSplit.cache()"
   ]
  },
  {
   "cell_type": "markdown",
   "metadata": {},
   "source": [
    "## Get the test data\n",
    "\n",
    "Mo knows where it's at!"
   ]
  },
  {
   "cell_type": "code",
   "execution_count": null,
   "metadata": {
    "collapsed": false
   },
   "outputs": [],
   "source": [
    "if sc._conf.get('spark.master') == 'yarn-client' or sc._conf.get('spark.master') == 'yarn-cluster':\n",
    "    urnTest = 'hdfs://sparkdl04:8020/palooza/data/validate/visit_test_panda.csv'\n",
    "else:\n",
    "    urnTest = 'file:///C:/Users/dickm/Documents/Projects/ML/Source/UPMC/Pharmacy/visit_test_panda.csv'\n",
    "\n",
    "chargesRDDTEST = sc.textFile(urnTest)\n",
    "   \n",
    "chargesRDDTEST = chargesRDD.filter(lambda line: line!=header)\n",
    "chargesRDDSplitTEST = chargesRDD.map(lambda line: line.replace('\"', '').split(','))\n",
    "chargesRDDSplitTEST.cache()"
   ]
  },
  {
   "cell_type": "code",
   "execution_count": null,
   "metadata": {
    "collapsed": false
   },
   "outputs": [],
   "source": [
    "#look at the data\n",
    "print 'The number of training records is ', chargesRDD.count()"
   ]
  },
  {
   "cell_type": "markdown",
   "metadata": {},
   "source": [
    "### Raw Features"
   ]
  },
  {
   "cell_type": "markdown",
   "metadata": {},
   "source": [
    "* VisitID - Identifier for patient visit.\n",
    "* Hospital - Admitting hospital.\n",
    "* Dept_Code - department code.\n",
    "* PaymentType - I am guessing a payment type for visit.\n",
    "* Age - Age of the patient in years.\n",
    "* Race - De-identified race of the patient.\n",
    "* Gender - Gender (\"M\" - male, \"F\" - female)\n",
    "* FC - ?\n",
    "* ArriveDate - Date of admission. \n",
    "* DischargeDate - Date of discharge\n",
    "* LOS - length of patient stay in days.\n",
    "* DXCODE - Diagnosis code.\n",
    "* Description - Description of diagnosis\n",
    "* DispenseID - ?\n",
    "* DOC - ?"
   ]
  },
  {
   "cell_type": "markdown",
   "metadata": {},
   "source": [
    "## Build Random Forest Model\n",
    "### We want to predict the length of stay (LOS) given the patient demographics, dxcode and deptcode, and day of the week admitted.\n",
    "\n",
    "Assumptions of feature relevance...\n",
    "* Dept_code categorical, some departments would have more serious patients than others\n",
    "* Day of the week, Patients admitted over weekend may require a longer length of stay to be seen by necessary staff\n",
    "* Dxcode, multiple per patient, may need to use PCA to reduce number (PCA is not always good before random forest, see references)\n",
    "* Demographics: age, gender and race \n",
    "\n",
    "\n",
    "We go through the following pipeline:\n",
    "* Encode/Extract features\n",
    "* Train the model\n",
    "* Evaluate the model on unseen data\n",
    "* Draw conclusions and make recommendations"
   ]
  },
  {
   "cell_type": "markdown",
   "metadata": {},
   "source": [
    "We should not need to normalize the features for Random Forest, but bucketing may be needed to help with outliers"
   ]
  },
  {
   "cell_type": "code",
   "execution_count": null,
   "metadata": {
    "collapsed": false
   },
   "outputs": [],
   "source": [
    "dxcodeRDD = chargesRDDSplit.map(lambda line: (line[0], line[11])).groupByKey().distinct().cache()\n",
    "dxCodes = dxcodeRDD.values().flatMap(list).distinct()\n",
    "dxCodeCount = dxCodes.count()"
   ]
  },
  {
   "cell_type": "code",
   "execution_count": null,
   "metadata": {
    "collapsed": false
   },
   "outputs": [],
   "source": [
    "def merge(x, y):\n",
    "    \n",
    "    if x is not None: \n",
    "        x['dxCount'] += 1\n",
    "        if 'dxcode' in x:\n",
    "            x['dxcode'] = list(set(x['dxcode'] + y['dxcode']))\n",
    "        else:\n",
    "            x = y\n",
    "    else:\n",
    "        x = y\n",
    "    return x\n",
    "\n",
    "\n",
    "def mapAndFold(rdd):\n",
    "    return rdd.map(lambda line: (line[0], dict(\n",
    "             los=float(line[10]),\n",
    "             age=int(line[4]),\n",
    "             hospital_visit=line[1],\n",
    "             dept_code=line[2],\n",
    "             race=line[5], \n",
    "             gender_female=1 if line[6]=='F' else 0,    #Encode gender as boolean\n",
    "             dxcode=[line[11]],\n",
    "             admit_day=parse(line[8]).weekday(),\n",
    "             admit_month=parse(line[8]).month,\n",
    "             dxCount=1,\n",
    "             fc=line[7]\n",
    "            ))).foldByKey(None, merge)\n"
   ]
  },
  {
   "cell_type": "code",
   "execution_count": null,
   "metadata": {
    "collapsed": false
   },
   "outputs": [],
   "source": [
    "chargesByVisitRDD = mapAndFold(chargesRDDSplit)\n",
    "df = chargesByVisitRDD.values().toDF()"
   ]
  },
  {
   "cell_type": "code",
   "execution_count": null,
   "metadata": {
    "collapsed": false
   },
   "outputs": [],
   "source": [
    "chargesByVisitRDDTEST = mapAndFold(chargesRDDSplitTEST)\n",
    "dfTEST = chargesByVisitRDD.values().toDF()"
   ]
  },
  {
   "cell_type": "code",
   "execution_count": null,
   "metadata": {
    "collapsed": true
   },
   "outputs": [],
   "source": [
    "stringIndexers = [\n",
    "    StringIndexer(inputCol=\"hospital_visit\", outputCol=\"hospitalIndex\"),\n",
    "    StringIndexer(inputCol=\"dept_code\", outputCol=\"deptIndex\"),\n",
    "    StringIndexer(inputCol=\"race\", outputCol=\"raceIndex\")\n",
    "]\n",
    "\n",
    "hashingTF = HashingTF(numFeatures=2*dxCodeCount, inputCol=\"dxcode\", outputCol=\"dxCodes\")\n",
    "idf = IDF(inputCol=\"dxCodes\", outputCol=\"idfDxCodes\", minDocFreq=10)\n",
    "\n",
    "mungePipeline = Pipeline(stages=stringIndexers + [hashingTF, idf])\n",
    "\n",
    "mungingModel = mungePipeline.fit(df)\n",
    "trainingData = mungingModel.transform(df)"
   ]
  },
  {
   "cell_type": "code",
   "execution_count": null,
   "metadata": {
    "collapsed": false
   },
   "outputs": [],
   "source": [
    "testingData = mungingModel.transform(dfTEST)"
   ]
  },
  {
   "cell_type": "markdown",
   "metadata": {},
   "source": [
    "## Munge it!\n",
    "String Indexers Need to have all values, so will need to fit combined traing and test data if unseen labels are present\n"
   ]
  },
  {
   "cell_type": "code",
   "execution_count": null,
   "metadata": {
    "collapsed": true
   },
   "outputs": [],
   "source": [
    "assembler = VectorAssembler(\n",
    "   inputCols=[\"age\", \n",
    "              \"deptIndex\", \n",
    "              \"gender_female\",\n",
    "              \"raceIndex\",\n",
    "              \"hospitalIndex\",\n",
    "              \"admit_day\",\n",
    "              \"admit_month\",\n",
    "              \"dxCount\",\n",
    "              \"idfDxCodes\"\n",
    "             ],\n",
    "    outputCol=\"features\")\n",
    "\n",
    "transformedTrainingDF = assembler.transform(trainingData).select('features','los')"
   ]
  },
  {
   "cell_type": "code",
   "execution_count": null,
   "metadata": {
    "collapsed": false
   },
   "outputs": [],
   "source": [
    "transformedTestingDF = assembler.transform(testingData).select('features','los')"
   ]
  },
  {
   "cell_type": "markdown",
   "metadata": {},
   "source": [
    "### Train Model\n",
    "Now we generate the training and test data. We use the ***seed*** function to ensure a repeatable split of the data between runs."
   ]
  },
  {
   "cell_type": "code",
   "execution_count": null,
   "metadata": {
    "collapsed": false,
    "scrolled": true
   },
   "outputs": [],
   "source": [
    "rf = RandomForestRegressor(featuresCol=\"features\", labelCol=\"los\",maxBins=1000, seed=1234)\n",
    "\n",
    "#Magic Numbers?\n",
    "rf.setNumTrees(100) \n",
    "rf.setMaxDepth(10) # Max of Spark is 30\n",
    "rf.setMinInstancesPerNode(5)\n",
    "rf.setFeatureSubsetStrategy('all')\n",
    "\n",
    "model = rf.fit(transformedTrainingDF)"
   ]
  },
  {
   "cell_type": "markdown",
   "metadata": {},
   "source": [
    "### Evaluate Model\n",
    "We evaluate the model on the unseen dataset that was not used to train the model. For reference here is the stats for los in the training data"
   ]
  },
  {
   "cell_type": "code",
   "execution_count": null,
   "metadata": {
    "collapsed": false
   },
   "outputs": [],
   "source": [
    "df.describe('los').show()"
   ]
  },
  {
   "cell_type": "code",
   "execution_count": null,
   "metadata": {
    "collapsed": false
   },
   "outputs": [],
   "source": [
    "# Select (prediction, true label) and compute test error\n",
    "predictions = model.transform(transformedTestingDF).select('los','prediction')\n",
    "evaluator = RegressionEvaluator(\n",
    "    labelCol=\"los\", predictionCol=\"prediction\", metricName=\"rmse\")\n",
    "rmse = evaluator.evaluate(predictions)\n",
    "print(\"Root Mean Squared Error (RMSE) on test data = %g\" % rmse)"
   ]
  },
  {
   "cell_type": "code",
   "execution_count": null,
   "metadata": {
    "collapsed": true
   },
   "outputs": [],
   "source": []
  }
 ],
 "metadata": {
  "kernelspec": {
   "display_name": "Python 2",
   "language": "python",
   "name": "python2"
  },
  "language_info": {
   "codemirror_mode": {
    "name": "ipython",
    "version": 2
   },
   "file_extension": ".py",
   "mimetype": "text/x-python",
   "name": "python",
   "nbconvert_exporter": "python",
   "pygments_lexer": "ipython2",
   "version": "2.7.11"
  }
 },
 "nbformat": 4,
 "nbformat_minor": 0
}
